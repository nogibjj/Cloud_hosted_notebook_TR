{
 "cells": [
  {
   "cell_type": "markdown",
   "metadata": {},
   "source": [
    "# Week 9: Cloud-Hosted Notebook Data Manipulation\n",
    " Author: Tianji Rao"
   ]
  },
  {
   "cell_type": "markdown",
   "metadata": {},
   "source": [
    "## Ingest\n",
    "Here, the author used the [`Eletric_Vehicle_Population_Data.csv`](https://catalog.data.gov/dataset/electric-vehicle-population-data) as the sample dataset and performed a series of descriptive statistics. Here we can have a glance at the dataset. All customized functions are from `lib`, which contains functions that can be used for statistical description and visualization."
   ]
  },
  {
   "cell_type": "code",
   "execution_count": 1,
   "metadata": {},
   "outputs": [],
   "source": [
    "import pandas as pd\n",
    "# import polars as pl\n",
    "from lib import pd_desc, mean, median, std, pd_visual"
   ]
  },
  {
   "cell_type": "code",
   "execution_count": 2,
   "metadata": {},
   "outputs": [
    {
     "name": "stdout",
     "output_type": "stream",
     "text": [
      "<class 'pandas.core.frame.DataFrame'>\n",
      "RangeIndex: 143596 entries, 0 to 143595\n",
      "Data columns (total 17 columns):\n",
      " #   Column                                             Non-Null Count   Dtype  \n",
      "---  ------                                             --------------   -----  \n",
      " 0   VIN (1-10)                                         143596 non-null  object \n",
      " 1   County                                             143574 non-null  object \n",
      " 2   City                                               143574 non-null  object \n",
      " 3   State                                              143596 non-null  object \n",
      " 4   Postal Code                                        143574 non-null  float64\n",
      " 5   Model Year                                         143596 non-null  int64  \n",
      " 6   Make                                               143596 non-null  object \n",
      " 7   Model                                              143596 non-null  object \n",
      " 8   Electric Vehicle Type                              143596 non-null  object \n",
      " 9   Clean Alternative Fuel Vehicle (CAFV) Eligibility  143596 non-null  object \n",
      " 10  Electric Range                                     143596 non-null  int64  \n",
      " 11  Base MSRP                                          143596 non-null  int64  \n",
      " 12  Legislative District                               143269 non-null  float64\n",
      " 13  DOL Vehicle ID                                     143596 non-null  int64  \n",
      " 14  Vehicle Location                                   143571 non-null  object \n",
      " 15  Electric Utility                                   143574 non-null  object \n",
      " 16  2020 Census Tract                                  143574 non-null  float64\n",
      "dtypes: float64(3), int64(4), object(10)\n",
      "memory usage: 18.6+ MB\n"
     ]
    }
   ],
   "source": [
    "# Using pandas to read .csv file\n",
    "df = pd.read_csv('Electric_Vehicle_Population_Data.csv')\n",
    "# print data information\n",
    "df.info()\n"
   ]
  },
  {
   "cell_type": "markdown",
   "metadata": {},
   "source": [
    "Last five rows"
   ]
  },
  {
   "cell_type": "code",
   "execution_count": 4,
   "metadata": {},
   "outputs": [
    {
     "data": {
      "text/html": [
       "<div>\n",
       "<style scoped>\n",
       "    .dataframe tbody tr th:only-of-type {\n",
       "        vertical-align: middle;\n",
       "    }\n",
       "\n",
       "    .dataframe tbody tr th {\n",
       "        vertical-align: top;\n",
       "    }\n",
       "\n",
       "    .dataframe thead th {\n",
       "        text-align: right;\n",
       "    }\n",
       "</style>\n",
       "<table border=\"1\" class=\"dataframe\">\n",
       "  <thead>\n",
       "    <tr style=\"text-align: right;\">\n",
       "      <th></th>\n",
       "      <th>VIN (1-10)</th>\n",
       "      <th>County</th>\n",
       "      <th>City</th>\n",
       "      <th>State</th>\n",
       "      <th>Postal Code</th>\n",
       "      <th>Model Year</th>\n",
       "      <th>Make</th>\n",
       "      <th>Model</th>\n",
       "      <th>Electric Vehicle Type</th>\n",
       "      <th>Clean Alternative Fuel Vehicle (CAFV) Eligibility</th>\n",
       "      <th>Electric Range</th>\n",
       "      <th>Base MSRP</th>\n",
       "      <th>Legislative District</th>\n",
       "      <th>DOL Vehicle ID</th>\n",
       "      <th>Vehicle Location</th>\n",
       "      <th>Electric Utility</th>\n",
       "      <th>2020 Census Tract</th>\n",
       "    </tr>\n",
       "  </thead>\n",
       "  <tbody>\n",
       "    <tr>\n",
       "      <th>143591</th>\n",
       "      <td>WA1AAAGE1N</td>\n",
       "      <td>Snohomish</td>\n",
       "      <td>Bothell</td>\n",
       "      <td>WA</td>\n",
       "      <td>98021.0</td>\n",
       "      <td>2022</td>\n",
       "      <td>AUDI</td>\n",
       "      <td>E-TRON</td>\n",
       "      <td>Battery Electric Vehicle (BEV)</td>\n",
       "      <td>Eligibility unknown as battery range has not b...</td>\n",
       "      <td>0</td>\n",
       "      <td>0</td>\n",
       "      <td>1.0</td>\n",
       "      <td>199194831</td>\n",
       "      <td>POINT (-122.17945799999995 47.80258900000007)</td>\n",
       "      <td>PUGET SOUND ENERGY INC</td>\n",
       "      <td>5.306105e+10</td>\n",
       "    </tr>\n",
       "    <tr>\n",
       "      <th>143592</th>\n",
       "      <td>2C4RC1S76N</td>\n",
       "      <td>King</td>\n",
       "      <td>Clyde Hill</td>\n",
       "      <td>WA</td>\n",
       "      <td>98004.0</td>\n",
       "      <td>2022</td>\n",
       "      <td>CHRYSLER</td>\n",
       "      <td>PACIFICA</td>\n",
       "      <td>Plug-in Hybrid Electric Vehicle (PHEV)</td>\n",
       "      <td>Clean Alternative Fuel Vehicle Eligible</td>\n",
       "      <td>32</td>\n",
       "      <td>0</td>\n",
       "      <td>48.0</td>\n",
       "      <td>193853824</td>\n",
       "      <td>POINT (-122.201905 47.61385)</td>\n",
       "      <td>PUGET SOUND ENERGY INC||CITY OF TACOMA - (WA)</td>\n",
       "      <td>5.303302e+10</td>\n",
       "    </tr>\n",
       "    <tr>\n",
       "      <th>143593</th>\n",
       "      <td>1G1FZ6S02L</td>\n",
       "      <td>King</td>\n",
       "      <td>Seattle</td>\n",
       "      <td>WA</td>\n",
       "      <td>98104.0</td>\n",
       "      <td>2020</td>\n",
       "      <td>CHEVROLET</td>\n",
       "      <td>BOLT EV</td>\n",
       "      <td>Battery Electric Vehicle (BEV)</td>\n",
       "      <td>Clean Alternative Fuel Vehicle Eligible</td>\n",
       "      <td>259</td>\n",
       "      <td>0</td>\n",
       "      <td>43.0</td>\n",
       "      <td>205856339</td>\n",
       "      <td>POINT (-122.329075 47.6018)</td>\n",
       "      <td>CITY OF SEATTLE - (WA)|CITY OF TACOMA - (WA)</td>\n",
       "      <td>5.303301e+10</td>\n",
       "    </tr>\n",
       "    <tr>\n",
       "      <th>143594</th>\n",
       "      <td>1G1RD6E40E</td>\n",
       "      <td>Spokane</td>\n",
       "      <td>Spokane</td>\n",
       "      <td>WA</td>\n",
       "      <td>99208.0</td>\n",
       "      <td>2014</td>\n",
       "      <td>CHEVROLET</td>\n",
       "      <td>VOLT</td>\n",
       "      <td>Plug-in Hybrid Electric Vehicle (PHEV)</td>\n",
       "      <td>Clean Alternative Fuel Vehicle Eligible</td>\n",
       "      <td>38</td>\n",
       "      <td>0</td>\n",
       "      <td>6.0</td>\n",
       "      <td>346114492</td>\n",
       "      <td>POINT (-117.40724999999998 47.71862500000003)</td>\n",
       "      <td>BONNEVILLE POWER ADMINISTRATION||AVISTA CORP||...</td>\n",
       "      <td>5.306301e+10</td>\n",
       "    </tr>\n",
       "    <tr>\n",
       "      <th>143595</th>\n",
       "      <td>7SAXCDE55N</td>\n",
       "      <td>Snohomish</td>\n",
       "      <td>Bothell</td>\n",
       "      <td>WA</td>\n",
       "      <td>98021.0</td>\n",
       "      <td>2022</td>\n",
       "      <td>TESLA</td>\n",
       "      <td>MODEL X</td>\n",
       "      <td>Battery Electric Vehicle (BEV)</td>\n",
       "      <td>Eligibility unknown as battery range has not b...</td>\n",
       "      <td>0</td>\n",
       "      <td>0</td>\n",
       "      <td>1.0</td>\n",
       "      <td>220266560</td>\n",
       "      <td>POINT (-122.17945799999995 47.80258900000007)</td>\n",
       "      <td>PUGET SOUND ENERGY INC</td>\n",
       "      <td>5.306105e+10</td>\n",
       "    </tr>\n",
       "  </tbody>\n",
       "</table>\n",
       "</div>"
      ],
      "text/plain": [
       "        VIN (1-10)     County        City State  Postal Code  Model Year  \\\n",
       "143591  WA1AAAGE1N  Snohomish     Bothell    WA      98021.0        2022   \n",
       "143592  2C4RC1S76N       King  Clyde Hill    WA      98004.0        2022   \n",
       "143593  1G1FZ6S02L       King     Seattle    WA      98104.0        2020   \n",
       "143594  1G1RD6E40E    Spokane     Spokane    WA      99208.0        2014   \n",
       "143595  7SAXCDE55N  Snohomish     Bothell    WA      98021.0        2022   \n",
       "\n",
       "             Make     Model                   Electric Vehicle Type  \\\n",
       "143591       AUDI    E-TRON          Battery Electric Vehicle (BEV)   \n",
       "143592   CHRYSLER  PACIFICA  Plug-in Hybrid Electric Vehicle (PHEV)   \n",
       "143593  CHEVROLET   BOLT EV          Battery Electric Vehicle (BEV)   \n",
       "143594  CHEVROLET      VOLT  Plug-in Hybrid Electric Vehicle (PHEV)   \n",
       "143595      TESLA   MODEL X          Battery Electric Vehicle (BEV)   \n",
       "\n",
       "        Clean Alternative Fuel Vehicle (CAFV) Eligibility  Electric Range  \\\n",
       "143591  Eligibility unknown as battery range has not b...               0   \n",
       "143592            Clean Alternative Fuel Vehicle Eligible              32   \n",
       "143593            Clean Alternative Fuel Vehicle Eligible             259   \n",
       "143594            Clean Alternative Fuel Vehicle Eligible              38   \n",
       "143595  Eligibility unknown as battery range has not b...               0   \n",
       "\n",
       "        Base MSRP  Legislative District  DOL Vehicle ID  \\\n",
       "143591          0                   1.0       199194831   \n",
       "143592          0                  48.0       193853824   \n",
       "143593          0                  43.0       205856339   \n",
       "143594          0                   6.0       346114492   \n",
       "143595          0                   1.0       220266560   \n",
       "\n",
       "                                     Vehicle Location  \\\n",
       "143591  POINT (-122.17945799999995 47.80258900000007)   \n",
       "143592                   POINT (-122.201905 47.61385)   \n",
       "143593                    POINT (-122.329075 47.6018)   \n",
       "143594  POINT (-117.40724999999998 47.71862500000003)   \n",
       "143595  POINT (-122.17945799999995 47.80258900000007)   \n",
       "\n",
       "                                         Electric Utility  2020 Census Tract  \n",
       "143591                             PUGET SOUND ENERGY INC       5.306105e+10  \n",
       "143592      PUGET SOUND ENERGY INC||CITY OF TACOMA - (WA)       5.303302e+10  \n",
       "143593       CITY OF SEATTLE - (WA)|CITY OF TACOMA - (WA)       5.303301e+10  \n",
       "143594  BONNEVILLE POWER ADMINISTRATION||AVISTA CORP||...       5.306301e+10  \n",
       "143595                             PUGET SOUND ENERGY INC       5.306105e+10  "
      ]
     },
     "execution_count": 4,
     "metadata": {},
     "output_type": "execute_result"
    }
   ],
   "source": [
    "df.tail()"
   ]
  },
  {
   "cell_type": "markdown",
   "metadata": {},
   "source": [
    "What are the columns?"
   ]
  },
  {
   "cell_type": "code",
   "execution_count": 5,
   "metadata": {},
   "outputs": [
    {
     "data": {
      "text/plain": [
       "Index(['VIN (1-10)', 'County', 'City', 'State', 'Postal Code', 'Model Year',\n",
       "       'Make', 'Model', 'Electric Vehicle Type',\n",
       "       'Clean Alternative Fuel Vehicle (CAFV) Eligibility', 'Electric Range',\n",
       "       'Base MSRP', 'Legislative District', 'DOL Vehicle ID',\n",
       "       'Vehicle Location', 'Electric Utility', '2020 Census Tract'],\n",
       "      dtype='object')"
      ]
     },
     "execution_count": 5,
     "metadata": {},
     "output_type": "execute_result"
    }
   ],
   "source": [
    "df.columns"
   ]
  },
  {
   "cell_type": "markdown",
   "metadata": {},
   "source": [
    "What is the shape: i.e. rows and columns"
   ]
  },
  {
   "cell_type": "code",
   "execution_count": 6,
   "metadata": {},
   "outputs": [
    {
     "data": {
      "text/plain": [
       "(143596, 17)"
      ]
     },
     "execution_count": 6,
     "metadata": {},
     "output_type": "execute_result"
    }
   ],
   "source": [
    "df.shape"
   ]
  },
  {
   "cell_type": "markdown",
   "metadata": {},
   "source": [
    "## EDA"
   ]
  },
  {
   "cell_type": "markdown",
   "metadata": {},
   "source": [
    "What are general characteristics of the data? A good way to find out is df.describe"
   ]
  },
  {
   "cell_type": "code",
   "execution_count": 8,
   "metadata": {},
   "outputs": [
    {
     "data": {
      "text/html": [
       "<div>\n",
       "<style scoped>\n",
       "    .dataframe tbody tr th:only-of-type {\n",
       "        vertical-align: middle;\n",
       "    }\n",
       "\n",
       "    .dataframe tbody tr th {\n",
       "        vertical-align: top;\n",
       "    }\n",
       "\n",
       "    .dataframe thead th {\n",
       "        text-align: right;\n",
       "    }\n",
       "</style>\n",
       "<table border=\"1\" class=\"dataframe\">\n",
       "  <thead>\n",
       "    <tr style=\"text-align: right;\">\n",
       "      <th></th>\n",
       "      <th>Postal Code</th>\n",
       "      <th>Model Year</th>\n",
       "      <th>Electric Range</th>\n",
       "      <th>Base MSRP</th>\n",
       "      <th>Legislative District</th>\n",
       "      <th>DOL Vehicle ID</th>\n",
       "      <th>2020 Census Tract</th>\n",
       "    </tr>\n",
       "  </thead>\n",
       "  <tbody>\n",
       "    <tr>\n",
       "      <th>count</th>\n",
       "      <td>143574.000000</td>\n",
       "      <td>143596.000000</td>\n",
       "      <td>143596.000000</td>\n",
       "      <td>143596.000000</td>\n",
       "      <td>143269.000000</td>\n",
       "      <td>1.435960e+05</td>\n",
       "      <td>1.435740e+05</td>\n",
       "    </tr>\n",
       "    <tr>\n",
       "      <th>mean</th>\n",
       "      <td>98175.212824</td>\n",
       "      <td>2019.865574</td>\n",
       "      <td>70.495738</td>\n",
       "      <td>1373.386515</td>\n",
       "      <td>29.371748</td>\n",
       "      <td>2.092015e+08</td>\n",
       "      <td>5.297590e+10</td>\n",
       "    </tr>\n",
       "    <tr>\n",
       "      <th>std</th>\n",
       "      <td>2383.169088</td>\n",
       "      <td>3.016004</td>\n",
       "      <td>97.128735</td>\n",
       "      <td>9450.067747</td>\n",
       "      <td>14.823899</td>\n",
       "      <td>8.353700e+07</td>\n",
       "      <td>1.594040e+09</td>\n",
       "    </tr>\n",
       "    <tr>\n",
       "      <th>min</th>\n",
       "      <td>1730.000000</td>\n",
       "      <td>1997.000000</td>\n",
       "      <td>0.000000</td>\n",
       "      <td>0.000000</td>\n",
       "      <td>1.000000</td>\n",
       "      <td>4.385000e+03</td>\n",
       "      <td>1.081042e+09</td>\n",
       "    </tr>\n",
       "    <tr>\n",
       "      <th>25%</th>\n",
       "      <td>98052.000000</td>\n",
       "      <td>2018.000000</td>\n",
       "      <td>0.000000</td>\n",
       "      <td>0.000000</td>\n",
       "      <td>18.000000</td>\n",
       "      <td>1.668338e+08</td>\n",
       "      <td>5.303301e+10</td>\n",
       "    </tr>\n",
       "    <tr>\n",
       "      <th>50%</th>\n",
       "      <td>98122.000000</td>\n",
       "      <td>2021.000000</td>\n",
       "      <td>19.000000</td>\n",
       "      <td>0.000000</td>\n",
       "      <td>33.000000</td>\n",
       "      <td>2.111039e+08</td>\n",
       "      <td>5.303303e+10</td>\n",
       "    </tr>\n",
       "    <tr>\n",
       "      <th>75%</th>\n",
       "      <td>98370.000000</td>\n",
       "      <td>2022.000000</td>\n",
       "      <td>111.000000</td>\n",
       "      <td>0.000000</td>\n",
       "      <td>43.000000</td>\n",
       "      <td>2.364520e+08</td>\n",
       "      <td>5.305307e+10</td>\n",
       "    </tr>\n",
       "    <tr>\n",
       "      <th>max</th>\n",
       "      <td>99403.000000</td>\n",
       "      <td>2024.000000</td>\n",
       "      <td>337.000000</td>\n",
       "      <td>845000.000000</td>\n",
       "      <td>49.000000</td>\n",
       "      <td>4.792548e+08</td>\n",
       "      <td>5.603300e+10</td>\n",
       "    </tr>\n",
       "  </tbody>\n",
       "</table>\n",
       "</div>"
      ],
      "text/plain": [
       "         Postal Code     Model Year  Electric Range      Base MSRP  \\\n",
       "count  143574.000000  143596.000000   143596.000000  143596.000000   \n",
       "mean    98175.212824    2019.865574       70.495738    1373.386515   \n",
       "std      2383.169088       3.016004       97.128735    9450.067747   \n",
       "min      1730.000000    1997.000000        0.000000       0.000000   \n",
       "25%     98052.000000    2018.000000        0.000000       0.000000   \n",
       "50%     98122.000000    2021.000000       19.000000       0.000000   \n",
       "75%     98370.000000    2022.000000      111.000000       0.000000   \n",
       "max     99403.000000    2024.000000      337.000000  845000.000000   \n",
       "\n",
       "       Legislative District  DOL Vehicle ID  2020 Census Tract  \n",
       "count         143269.000000    1.435960e+05       1.435740e+05  \n",
       "mean              29.371748    2.092015e+08       5.297590e+10  \n",
       "std               14.823899    8.353700e+07       1.594040e+09  \n",
       "min                1.000000    4.385000e+03       1.081042e+09  \n",
       "25%               18.000000    1.668338e+08       5.303301e+10  \n",
       "50%               33.000000    2.111039e+08       5.303303e+10  \n",
       "75%               43.000000    2.364520e+08       5.305307e+10  \n",
       "max               49.000000    4.792548e+08       5.603300e+10  "
      ]
     },
     "execution_count": 8,
     "metadata": {},
     "output_type": "execute_result"
    }
   ],
   "source": [
    "#NBVAL_CHECK_OUTPUT\n",
    "pd_desc(df)"
   ]
  },
  {
   "cell_type": "code",
   "execution_count": 8,
   "metadata": {},
   "outputs": [
    {
     "data": {
      "text/plain": [
       "70.49573804284242"
      ]
     },
     "execution_count": 8,
     "metadata": {},
     "output_type": "execute_result"
    }
   ],
   "source": [
    "#NBVAL_CHECK_OUTPUT\n",
    "mean(df['Electric Range'])"
   ]
  },
  {
   "cell_type": "code",
   "execution_count": 9,
   "metadata": {},
   "outputs": [
    {
     "data": {
      "text/plain": [
       "2021.0"
      ]
     },
     "execution_count": 9,
     "metadata": {},
     "output_type": "execute_result"
    }
   ],
   "source": [
    "#NBVAL_CHECK_OUTPUT\n",
    "median(df['Model Year'])"
   ]
  },
  {
   "cell_type": "code",
   "execution_count": 10,
   "metadata": {},
   "outputs": [
    {
     "data": {
      "text/plain": [
       "97.128735"
      ]
     },
     "execution_count": 10,
     "metadata": {},
     "output_type": "execute_result"
    }
   ],
   "source": [
    "#NBVAL_CHECK_OUTPUT\n",
    "round(std(df['Electric Range']), 6)"
   ]
  },
  {
   "cell_type": "markdown",
   "metadata": {},
   "source": [
    "### Model Year Analysis\n",
    "By visualization"
   ]
  },
  {
   "cell_type": "code",
   "execution_count": 9,
   "metadata": {},
   "outputs": [
    {
     "data": {
      "image/png": "[encoded data removed]",
      "text/plain": [
       "<Figure size 640x480 with 1 Axes>"
      ]
     },
     "metadata": {},
     "output_type": "display_data"
    }
   ],
   "source": [
    "pd_visual(df['Model Year'])"
   ]
  },
  {
   "cell_type": "markdown",
   "metadata": {},
   "source": [
    "### Electric Range Analysis\n",
    "By visualization"
   ]
  },
  {
   "cell_type": "code",
   "execution_count": 13,
   "metadata": {},
   "outputs": [
    {
     "data": {
      "text/plain": [
       "count    143596.000000\n",
       "mean         70.495738\n",
       "std          97.128735\n",
       "min           0.000000\n",
       "25%           0.000000\n",
       "50%          19.000000\n",
       "75%         111.000000\n",
       "max         337.000000\n",
       "Name: Electric Range, dtype: float64"
      ]
     },
     "execution_count": 13,
     "metadata": {},
     "output_type": "execute_result"
    }
   ],
   "source": [
    "pd_desc(df['Electric Range'])"
   ]
  },
  {
   "cell_type": "code",
   "execution_count": 12,
   "metadata": {},
   "outputs": [
    {
     "data": {
      "image/png": "[encoded data removed]",
      "text/plain": [
       "<Figure size 640x480 with 1 Axes>"
      ]
     },
     "metadata": {},
     "output_type": "display_data"
    }
   ],
   "source": [
    "pd_visual(df['Electric Range'])"
   ]
  },
  {
   "cell_type": "code",
   "execution_count": null,
   "metadata": {},
   "outputs": [],
   "source": []
  },
  {
   "cell_type": "markdown",
   "metadata": {},
   "source": [
    "## Modeling"
   ]
  },
  {
   "cell_type": "code",
   "execution_count": null,
   "metadata": {},
   "outputs": [],
   "source": []
  },
  {
   "cell_type": "markdown",
   "metadata": {},
   "source": [
    "## Conclusion"
   ]
  },
  {
   "cell_type": "code",
   "execution_count": null,
   "metadata": {},
   "outputs": [],
   "source": []
  },
  {
   "cell_type": "markdown",
   "metadata": {},
   "source": [
    "### "
   ]
  }
 ],
 "metadata": {
  "kernelspec": {
   "display_name": "base",
   "language": "python",
   "name": "python3"
  },
  "language_info": {
   "codemirror_mode": {
    "name": "ipython",
    "version": 3
   },
   "file_extension": ".py",
   "mimetype": "text/x-python",
   "name": "python",
   "nbconvert_exporter": "python",
   "pygments_lexer": "ipython3",
   "version": "3.11.4"
  },
  "orig_nbformat": 4
 },
 "nbformat": 4,
 "nbformat_minor": 2
}
